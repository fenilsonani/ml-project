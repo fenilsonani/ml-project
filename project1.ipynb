{
 "cells": [
  {
   "cell_type": "code",
   "execution_count": 2,
   "metadata": {},
   "outputs": [
    {
     "name": "stdout",
     "output_type": "stream",
     "text": [
      "Libraries imported successfully!\n"
     ]
    }
   ],
   "source": [
    "#Importing necessary libraries for data analysis and modeling\n",
    "import pandas as pd\n",
    "import numpy as np\n",
    "import matplotlib.pyplot as plt\n",
    "import seaborn as sns\n",
    "\n",
    "from sklearn.preprocessing import OneHotEncoder, StandardScaler\n",
    "\n",
    "# For machine learning models\n",
    "from sklearn.model_selection import train_test_split, GridSearchCV\n",
    "from sklearn.ensemble import RandomForestClassifier, RandomForestRegressor\n",
    "from sklearn.metrics import classification_report, confusion_matrix, roc_auc_score, r2_score\n",
    "from sklearn.neural_network import MLPClassifier, MLPRegressor\n",
    "# For handling imbalanced datasets\n",
    "from imblearn.over_sampling import SMOTE\n",
    "# For visualization of decision trees\n",
    "from sklearn.tree import export_text, plot_tree\n",
    "# Suppress warnings for cleaner outputs\n",
    "import warnings\n",
    "warnings.filterwarnings(\"ignore\")\n",
    "print(\"Libraries imported successfully!\")"
   ]
  },
  {
   "cell_type": "code",
   "execution_count": 4,
   "metadata": {},
   "outputs": [
    {
     "name": "stdout",
     "output_type": "stream",
     "text": [
      "Dataset loaded successfully!\n",
      "                       path_to_img stock_number    shape  carat clarity  \\\n",
      "0  web_scraped/cushion/2106452.jpg      2106452  cushion   0.55     SI2   \n",
      "1  web_scraped/cushion/2042329.jpg      2042329  cushion   0.52     SI2   \n",
      "2  web_scraped/cushion/2055268.jpg      2055268  cushion   0.50     SI1   \n",
      "3  web_scraped/cushion/2128779.jpg      2128779  cushion   0.50     VS2   \n",
      "4  web_scraped/cushion/2103991.jpg      2103991  cushion   0.51     SI1   \n",
      "\n",
      "  colour cut polish symmetry fluorescence  lab  length  width  depth  \n",
      "0      N  VG     EX       VG            N  GIA    4.56   4.44   3.09  \n",
      "1    Y-Z  EX     EX       VG            F  GIA    4.40   4.31   2.99  \n",
      "2      L  VG     EX       VG            N  GIA    4.87   4.19   2.89  \n",
      "3      M  EX     EX       VG            F  GIA    4.73   4.28   2.84  \n",
      "4      M  EX     EX       VG            N  GIA    4.47   4.44   3.05  \n"
     ]
    }
   ],
   "source": [
    "import pandas as pd\n",
    "file_path = r\"data/diamond_data.csv\"\n",
    "# Reading the dataset\n",
    "diamond_data = pd.read_csv(file_path)\n",
    "# Display the first few rows of the dataset\n",
    "print(\"Dataset loaded successfully!\")\n",
    "print(diamond_data.head())"
   ]
  },
  {
   "cell_type": "code",
   "execution_count": 5,
   "metadata": {},
   "outputs": [
    {
     "ename": "TypeError",
     "evalue": "OneHotEncoder.__init__() got an unexpected keyword argument 'sparse'",
     "output_type": "error",
     "traceback": [
      "\u001b[0;31m---------------------------------------------------------------------------\u001b[0m",
      "\u001b[0;31mTypeError\u001b[0m                                 Traceback (most recent call last)",
      "Cell \u001b[0;32mIn[5], line 15\u001b[0m\n\u001b[1;32m     13\u001b[0m \u001b[38;5;66;03m#One-hot encode categorical variables\u001b[39;00m\n\u001b[1;32m     14\u001b[0m \u001b[38;5;28;01mfrom\u001b[39;00m \u001b[38;5;21;01msklearn\u001b[39;00m\u001b[38;5;21;01m.\u001b[39;00m\u001b[38;5;21;01mpreprocessing\u001b[39;00m \u001b[38;5;28;01mimport\u001b[39;00m OneHotEncoder\n\u001b[0;32m---> 15\u001b[0m encoder \u001b[38;5;241m=\u001b[39m \u001b[43mOneHotEncoder\u001b[49m\u001b[43m(\u001b[49m\u001b[43msparse\u001b[49m\u001b[38;5;241;43m=\u001b[39;49m\u001b[38;5;28;43;01mFalse\u001b[39;49;00m\u001b[43m,\u001b[49m\u001b[43m \u001b[49m\u001b[43mdrop\u001b[49m\u001b[38;5;241;43m=\u001b[39;49m\u001b[38;5;124;43m\"\u001b[39;49m\u001b[38;5;124;43mfirst\u001b[39;49m\u001b[38;5;124;43m\"\u001b[39;49m\u001b[43m)\u001b[49m\n\u001b[1;32m     16\u001b[0m encoded_categorical \u001b[38;5;241m=\u001b[39m encoder\u001b[38;5;241m.\u001b[39mfit_transform(diamond_data_cleaned[categorical_columns])\n\u001b[1;32m     18\u001b[0m \u001b[38;5;66;03m#Standardize numerical features\u001b[39;00m\n",
      "\u001b[0;31mTypeError\u001b[0m: OneHotEncoder.__init__() got an unexpected keyword argument 'sparse'"
     ]
    }
   ],
   "source": [
    "diamond_data_cleaned = diamond_data.drop(columns=[\"path_to_img\", \"stock_number\"], errors=\"ignore\")\n",
    "\n",
    "#Handle missing values: Fill categorical columns with the mode\n",
    "categorical_columns = [\"shape\", \"clarity\", \"colour\", \"cut\", \"polish\", \"symmetry\", \"fluorescence\", \"lab\"]\n",
    "for col in categorical_columns:\n",
    "    diamond_data_cleaned[col].fillna(diamond_data_cleaned[col].mode()[0], inplace=True)\n",
    "\n",
    "#Checking for missing values in numerical columns\n",
    "numerical_columns = [\"carat\", \"length\", \"width\", \"depth\"]\n",
    "if diamond_data_cleaned[numerical_columns].isnull().sum().sum() > 0:\n",
    "    diamond_data_cleaned[numerical_columns] = diamond_data_cleaned[numerical_columns].fillna(0)  # Fill with 0 or mean/median\n",
    "\n",
    "#One-hot encode categorical variables\n",
    "from sklearn.preprocessing import OneHotEncoder\n",
    "encoder = OneHotEncoder(sparse=False, drop=\"first\")\n",
    "encoded_categorical = encoder.fit_transform(diamond_data_cleaned[categorical_columns])\n",
    "\n",
    "#Standardize numerical features\n",
    "from sklearn.preprocessing import StandardScaler\n",
    "scaler = StandardScaler()\n",
    "scaled_numerical = scaler.fit_transform(diamond_data_cleaned[numerical_columns])\n",
    "\n",
    "#Combine processed features\n",
    "import numpy as np\n",
    "processed_data = np.hstack([scaled_numerical, encoded_categorical])\n",
    "\n",
    "# Convert to a DataFrame\n",
    "processed_columns = numerical_columns + list(encoder.get_feature_names_out(categorical_columns))\n",
    "processed_data_df = pd.DataFrame(processed_data, columns=processed_columns)\n",
    "\n",
    "#Display the first few rows of the preprocessed dataset\n",
    "print(\"Preprocessing completed!\")\n",
    "print(processed_data_df.head())"
   ]
  },
  {
   "cell_type": "code",
   "execution_count": null,
   "metadata": {},
   "outputs": [],
   "source": []
  }
 ],
 "metadata": {
  "kernelspec": {
   "display_name": ".venv",
   "language": "python",
   "name": "python3"
  },
  "language_info": {
   "codemirror_mode": {
    "name": "ipython",
    "version": 3
   },
   "file_extension": ".py",
   "mimetype": "text/x-python",
   "name": "python",
   "nbconvert_exporter": "python",
   "pygments_lexer": "ipython3",
   "version": "3.10.12"
  }
 },
 "nbformat": 4,
 "nbformat_minor": 2
}
